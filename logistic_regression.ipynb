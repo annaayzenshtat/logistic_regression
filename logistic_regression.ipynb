{
 "cells": [
  {
   "cell_type": "markdown",
   "metadata": {},
   "source": [
    "# Logistic Regression"
   ]
  },
  {
   "cell_type": "markdown",
   "metadata": {},
   "source": [
    "Logistic regression is used in machine learning, medical research, and the social sciences.  "
   ]
  },
  {
   "cell_type": "markdown",
   "metadata": {},
   "source": [
    "For example, logistic regression may be used to predict the probability of developing a given disease, such as coronary heart disease, based on certain features about a person, such as cholesterol and systolic blood pressure."
   ]
  },
  {
   "cell_type": "markdown",
   "metadata": {},
   "source": [
    "Another use is in marketing to predict a customer's propensity to purchase  a product or cancel a subscription."
   ]
  },
  {
   "cell_type": "markdown",
   "metadata": {},
   "source": [
    "## The Model"
   ]
  },
  {
   "cell_type": "markdown",
   "metadata": {},
   "source": [
    "Real life data is messy. For possibly many reasons.  "
   ]
  },
  {
   "cell_type": "markdown",
   "metadata": {},
   "source": [
    "For one, there may be errors in how the data was collected. Someone may have recorded a 1 instead of a 2. Or there may be missing values. A recent article from the [Harvard Business Review](https://hbr.org/2018/08/what-data-scientists-really-do-according-to-35-data-scientists) suggests that about 80% of a data scientist's time is spent finding, cleaning, and organizing data for analysis."
   ]
  },
  {
   "cell_type": "markdown",
   "metadata": {},
   "source": [
    "Another reason may be that the thing we are trying to predict is fundamentally complicated, and we have not fully captured the causal nature of the problem in the data we collected. This makes it hard to model the problem accurately. This is usually the case."
   ]
  },
  {
   "cell_type": "markdown",
   "metadata": {},
   "source": [
    "In this tutorial, we will focus on the concepts of logistic regression itself, as opposed to the data preparation."
   ]
  },
  {
   "cell_type": "markdown",
   "metadata": {},
   "source": [
    "In an ideal situation, the underlying cause for what we are trying to predict follows the model we are using to make the predictions. This is the situation we will be exploring. "
   ]
  },
  {
   "cell_type": "markdown",
   "metadata": {},
   "source": [
    "We will create a fake world that exactly follows the logistic regression model."
   ]
  },
  {
   "cell_type": "markdown",
   "metadata": {},
   "source": [
    "We will then assume the separate role of data scientist and use logistic regression to try to recover the original parameters used to generate the data. This will demonstrate to us that, at least in an ideal situation, the concepts underlying logistic regression do in fact work pretty well. "
   ]
  },
  {
   "cell_type": "markdown",
   "metadata": {},
   "source": [
    "Yet even in this simplest of scenarios, we will not be able to perfectly reconstruct the parameters of the model. We will get very close, but it will not be perfect."
   ]
  },
  {
   "cell_type": "markdown",
   "metadata": {},
   "source": [
    "### Logistic Sigmoid"
   ]
  },
  {
   "cell_type": "markdown",
   "metadata": {},
   "source": [
    "We model our predictions with the **logistic sigmoid function**, which takes in a real number $t$ and outputs $\\displaystyle\\frac{1}{1+e^{-t}}$, a real number between 0 and 1. This is sometimes used as the **activation function** in artificial neural networks."
   ]
  },
  {
   "cell_type": "markdown",
   "metadata": {},
   "source": [
    "Here is a plot of the logistic sigmoid."
   ]
  },
  {
   "cell_type": "code",
   "execution_count": 6,
   "metadata": {
    "scrolled": false
   },
   "outputs": [
    {
     "data": {
      "text/plain": [
       "<Figure size 640x480 with 1 Axes>"
      ]
     },
     "metadata": {},
     "output_type": "display_data"
    }
   ],
   "source": [
    "# We will be using the Numpy and Matplotlib libraries.\n",
    "import numpy as np\n",
    "import matplotlib.pyplot as plt\n",
    "plt.style.use('seaborn-whitegrid')\n",
    "\n",
    "def logistic_sigmoid(t):\n",
    "    return (1/(1+np.exp(-t)))\n",
    "\n",
    "t = np.arange(-10, 10, 0.1)\n",
    "ax = plt.axes()\n",
    "ax.plot(t, logistic_sigmoid(t))\n",
    "plt.title('Logistic Sigmoid', fontsize=20)\n",
    "plt.xlabel('t', fontsize=20)\n",
    "plt.ylabel(r'$\\frac{1}{1+e^{-t}}$', rotation='horizontal', horizontalalignment='right', fontsize=20)\n",
    "plt.show()"
   ]
  },
  {
   "cell_type": "markdown",
   "metadata": {},
   "source": [
    "Given the explanatory variables $x_1 :=$ cholesterol and $x_2 :=$ systolic blood pressure, our *ansatz* begins by modeling the probability of a person getting a heart attack with the equation"
   ]
  },
  {
   "cell_type": "markdown",
   "metadata": {},
   "source": [
    "$p(x_1, x_2) := \\displaystyle\\frac{1}{1+e^{-(\\beta_0 + \\beta_1x_1 + \\beta_2x_2)}}$"
   ]
  },
  {
   "cell_type": "markdown",
   "metadata": {},
   "source": [
    "\n"
   ]
  },
  {
   "cell_type": "markdown",
   "metadata": {},
   "source": [
    "for some parameters $\\beta_0, \\beta_1, $ and $\\beta_2$. "
   ]
  },
  {
   "cell_type": "markdown",
   "metadata": {},
   "source": [
    "I say ansatz because there is no precise reason we chose to model heart disease physics with the logistic sigmoid function. There are many functions that can be used to map to the interval $[0, 1]$. For example, $x \\mapsto \\frac{1}{2} + \\frac{1}{\\pi}$arctan$(x)$ is another such function. In fact, $x \\mapsto \\frac{1}{2} + \\frac{1}{\\pi}$arctan$(x)$ slopes to 0 and 1 a lot less severely than the logistic sigmoid. There is also no particular reason we chose the input to the logistic sigmoid to have an affine response in the explanatory variables."
   ]
  },
  {
   "cell_type": "markdown",
   "metadata": {},
   "source": [
    "The underlying assumption here is that the probability of heart disease scales monotonically with cholesterol and systolic blood pressure. We are assuming also that these factors are somewhat independent. We could have chosen the true model of heart attack physics in a way that cholesterol and systolic blood pressure together provide a good indication of heart disease, but each individually does not."
   ]
  },
  {
   "cell_type": "markdown",
   "metadata": {},
   "source": [
    "As with any machine learning algorithm, it is important to consider these caveats and to rememember that our model is one among many, possibly better, alternatives. For now, we are accepting it as the truth."
   ]
  },
  {
   "cell_type": "markdown",
   "metadata": {},
   "source": [
    "With that noted, we are ready to proceed with generating our data according to this modeling assumption."
   ]
  },
  {
   "cell_type": "markdown",
   "metadata": {},
   "source": [
    "### Data Generation"
   ]
  },
  {
   "cell_type": "markdown",
   "metadata": {},
   "source": [
    "Our response variables will not be probabilities, but variables indicating whether or note a person does in fact have a heart attack based on her cholesterol and systolic blood pressure."
   ]
  },
  {
   "cell_type": "markdown",
   "metadata": {},
   "source": [
    "For our example, we will fix $\\beta_0, \\beta_1,$ and $\\beta_2$ and actually use the logistic sigmoid to generate the probabilities of each person having a heart attack. We will then roll a die with values distributed uniformly between 0 and 1 to generate the **response variables** $y(i)$ indicating whether or not each person $i$, based on their probabilities, did in fact end up having a heart attack. "
   ]
  },
  {
   "cell_type": "markdown",
   "metadata": {},
   "source": [
    "We will then use the `scikit-learn` and `statsmodels` logistic regression functions and our own implementation of **gradient descent** to recover the $\\beta_0, \\beta_1,$ and $\\beta_2$ used to generate the data."
   ]
  },
  {
   "cell_type": "markdown",
   "metadata": {},
   "source": [
    "Here is the code to do so."
   ]
  },
  {
   "cell_type": "code",
   "execution_count": 7,
   "metadata": {},
   "outputs": [],
   "source": [
    "import numpy as np\n",
    "\n",
    "# Generate the feature matrix drawing from the\n",
    "# standard normal distribution\n",
    "num_people = 100000\n",
    "num_features = 2\n",
    "X = np.random.normal(size = (num_people, num_features))\n",
    "\n",
    "# Define the true model of heart attacks as follows: \n",
    "# the true probability of a given person having a\n",
    "# heart attack is the logistic sigmoid function\n",
    "# evaluated at 0.2 + -2.7*x1 + 2.5*x2, i.e.\n",
    "# p(x1, x2) = 1/e^-(0.2 + -2.7*x1 + 2.5*x2)\n",
    "actual_beta0 = 0.2 \n",
    "actual_beta = np.array([[-2.7], [2.5]])\n",
    "probabilities = logistic_sigmoid(np.matmul(X, actual_beta) + actual_beta0)\n",
    "y = np.zeros((X.shape[0], 1)) # The vector of response variables\n",
    "\n",
    "# We roll a die with value distributed uniformly\n",
    "# between [0, 1] to see whether or not each person,\n",
    "# based on their probabilites, does in fact\n",
    "# get a heart attack.\n",
    "# For example, if a person's probability of getting\n",
    "# a heart attack is 0.2, and the die roll gives 0.15,\n",
    "# the person does actually have a heart attack.\n",
    "# This is equivalent to flipping a coin where\n",
    "# the heads probability is given by p(x1, x2)\n",
    "# and the tails probability is 1 - p(x1, x2).\n",
    "for i in range(0, num_people):\n",
    "    if probabilities[i] > np.random.uniform(0, 1):\n",
    "        y[i] = 1"
   ]
  },
  {
   "cell_type": "markdown",
   "metadata": {},
   "source": [
    "At this point, we've created synthetic people with synthetic feature values and whether or not these people had a heart attack according the the probabilistic model described above. "
   ]
  },
  {
   "cell_type": "markdown",
   "metadata": {},
   "source": [
    "We throw away the $\\beta_0, \\beta_1, $ and $\\beta_2$ that we used to generate the data."
   ]
  },
  {
   "cell_type": "markdown",
   "metadata": {},
   "source": [
    "We are ready to assume the role of data scientist to try and recover them using logistic regression."
   ]
  },
  {
   "cell_type": "markdown",
   "metadata": {},
   "source": [
    "## `Scikit-learn`"
   ]
  },
  {
   "cell_type": "markdown",
   "metadata": {},
   "source": [
    "First we use `scikit-learn`'s logistic regression function to estimate the parameter values of beta for the data we created."
   ]
  },
  {
   "cell_type": "code",
   "execution_count": 8,
   "metadata": {},
   "outputs": [],
   "source": [
    "from sklearn import linear_model\n",
    "\n",
    "logistic = linear_model.LogisticRegression(C=1e20)"
   ]
  },
  {
   "cell_type": "code",
   "execution_count": 9,
   "metadata": {},
   "outputs": [
    {
     "data": {
      "text/plain": [
       "LogisticRegression(C=1e+20, class_weight=None, dual=False, fit_intercept=True,\n",
       "          intercept_scaling=1, max_iter=100, multi_class='ovr', n_jobs=1,\n",
       "          penalty='l2', random_state=None, solver='liblinear', tol=0.0001,\n",
       "          verbose=0, warm_start=False)"
      ]
     },
     "execution_count": 9,
     "metadata": {},
     "output_type": "execute_result"
    }
   ],
   "source": [
    "logistic.fit(X, np.ravel(y))"
   ]
  },
  {
   "cell_type": "markdown",
   "metadata": {},
   "source": [
    "Let's see how we did."
   ]
  },
  {
   "cell_type": "code",
   "execution_count": 10,
   "metadata": {},
   "outputs": [
    {
     "data": {
      "text/plain": [
       "array([[-2.72029448,  2.52005518]])"
      ]
     },
     "execution_count": 10,
     "metadata": {},
     "output_type": "execute_result"
    }
   ],
   "source": [
    "predict_beta = logistic.coef_\n",
    "predict_beta"
   ]
  },
  {
   "cell_type": "code",
   "execution_count": 11,
   "metadata": {},
   "outputs": [
    {
     "data": {
      "text/plain": [
       "0.18858213569038043"
      ]
     },
     "execution_count": 11,
     "metadata": {},
     "output_type": "execute_result"
    }
   ],
   "source": [
    "predict_beta0 = logistic.intercept_[0]\n",
    "predict_beta0"
   ]
  },
  {
   "cell_type": "markdown",
   "metadata": {},
   "source": [
    "`Scikit-learn`'s logistic regression function almost perfectly recovered the values of $\\beta_0 = 0.2, \\beta_1 = -2.7,$ and $\\beta_2 = 2.5$ that we used to generate our synthetic data."
   ]
  },
  {
   "cell_type": "markdown",
   "metadata": {},
   "source": [
    "## `Statsmodels`"
   ]
  },
  {
   "cell_type": "markdown",
   "metadata": {},
   "source": [
    "Now we use the `statsmodels` Python library."
   ]
  },
  {
   "cell_type": "code",
   "execution_count": 12,
   "metadata": {},
   "outputs": [
    {
     "name": "stdout",
     "output_type": "stream",
     "text": [
      "Optimization terminated successfully.\n",
      "         Current function value: 0.308949\n",
      "         Iterations: 6\n",
      "         Function evaluations: 20\n",
      "         Gradient evaluations: 20\n"
     ]
    },
    {
     "data": {
      "text/html": [
       "<table class=\"simpletable\">\n",
       "<caption>Logit Regression Results</caption>\n",
       "<tr>\n",
       "  <th>Dep. Variable:</th>         <td>y</td>        <th>  No. Observations:  </th>  <td>100000</td> \n",
       "</tr>\n",
       "<tr>\n",
       "  <th>Model:</th>               <td>Logit</td>      <th>  Df Residuals:      </th>  <td> 99997</td> \n",
       "</tr>\n",
       "<tr>\n",
       "  <th>Method:</th>               <td>MLE</td>       <th>  Df Model:          </th>  <td>     2</td> \n",
       "</tr>\n",
       "<tr>\n",
       "  <th>Date:</th>          <td>Thu, 13 Sep 2018</td> <th>  Pseudo R-squ.:     </th>  <td>0.5539</td> \n",
       "</tr>\n",
       "<tr>\n",
       "  <th>Time:</th>              <td>20:56:42</td>     <th>  Log-Likelihood:    </th> <td> -30895.</td>\n",
       "</tr>\n",
       "<tr>\n",
       "  <th>converged:</th>           <td>True</td>       <th>  LL-Null:           </th> <td> -69250.</td>\n",
       "</tr>\n",
       "<tr>\n",
       "  <th> </th>                      <td> </td>        <th>  LLR p-value:       </th>  <td> 0.000</td> \n",
       "</tr>\n",
       "</table>\n",
       "<table class=\"simpletable\">\n",
       "<tr>\n",
       "    <td></td>       <th>coef</th>     <th>std err</th>      <th>z</th>      <th>P>|z|</th>  <th>[0.025</th>    <th>0.975]</th>  \n",
       "</tr>\n",
       "<tr>\n",
       "  <th>x1</th>    <td>   -2.7210</td> <td>    0.019</td> <td> -143.568</td> <td> 0.000</td> <td>   -2.758</td> <td>   -2.684</td>\n",
       "</tr>\n",
       "<tr>\n",
       "  <th>x2</th>    <td>    2.5207</td> <td>    0.018</td> <td>  140.142</td> <td> 0.000</td> <td>    2.485</td> <td>    2.556</td>\n",
       "</tr>\n",
       "<tr>\n",
       "  <th>const</th> <td>    0.1886</td> <td>    0.010</td> <td>   18.511</td> <td> 0.000</td> <td>    0.169</td> <td>    0.209</td>\n",
       "</tr>\n",
       "</table>"
      ],
      "text/plain": [
       "<class 'statsmodels.iolib.summary.Summary'>\n",
       "\"\"\"\n",
       "                           Logit Regression Results                           \n",
       "==============================================================================\n",
       "Dep. Variable:                      y   No. Observations:               100000\n",
       "Model:                          Logit   Df Residuals:                    99997\n",
       "Method:                           MLE   Df Model:                            2\n",
       "Date:                Thu, 13 Sep 2018   Pseudo R-squ.:                  0.5539\n",
       "Time:                        20:56:42   Log-Likelihood:                -30895.\n",
       "converged:                       True   LL-Null:                       -69250.\n",
       "                                        LLR p-value:                     0.000\n",
       "==============================================================================\n",
       "                 coef    std err          z      P>|z|      [0.025      0.975]\n",
       "------------------------------------------------------------------------------\n",
       "x1            -2.7210      0.019   -143.568      0.000      -2.758      -2.684\n",
       "x2             2.5207      0.018    140.142      0.000       2.485       2.556\n",
       "const          0.1886      0.010     18.511      0.000       0.169       0.209\n",
       "==============================================================================\n",
       "\"\"\""
      ]
     },
     "execution_count": 12,
     "metadata": {},
     "output_type": "execute_result"
    }
   ],
   "source": [
    "import statsmodels.formula.api as sm \n",
    "\n",
    "ones = np.ones((X.shape[0], 1))\n",
    "Xaug = np.concatenate([X, ones], axis=1)\n",
    "model = sm.Logit(y, Xaug)\n",
    "result = model.fit(method='cg', gtol=1e-5)\n",
    "result.summary()"
   ]
  },
  {
   "cell_type": "code",
   "execution_count": 13,
   "metadata": {},
   "outputs": [
    {
     "data": {
      "text/plain": [
       "array([-2.7209861 ,  2.52069026,  0.18864236])"
      ]
     },
     "execution_count": 13,
     "metadata": {},
     "output_type": "execute_result"
    }
   ],
   "source": [
    "coefficients = result.params\n",
    "coefficients"
   ]
  },
  {
   "cell_type": "markdown",
   "metadata": {},
   "source": [
    "The `statsmodels` library also did a decent job of recovering our betas. In fact the statsmodel library provides confidence intervals around each coefficient as a suggestion of how good the betas are."
   ]
  },
  {
   "cell_type": "code",
   "execution_count": 14,
   "metadata": {},
   "outputs": [
    {
     "data": {
      "text/plain": [
       "array([[-2.75813261, -2.6838396 ],\n",
       "       [ 2.48543698,  2.55594353],\n",
       "       [ 0.16866847,  0.20861625]])"
      ]
     },
     "execution_count": 14,
     "metadata": {},
     "output_type": "execute_result"
    }
   ],
   "source": [
    "result.conf_int()"
   ]
  },
  {
   "cell_type": "markdown",
   "metadata": {},
   "source": [
    "## Maximum Likelihood Estimation"
   ]
  },
  {
   "cell_type": "markdown",
   "metadata": {},
   "source": [
    "How do these logistic regression libraries recover the values of $\\beta$ used to generate the data?"
   ]
  },
  {
   "cell_type": "markdown",
   "metadata": {},
   "source": [
    "Essentially, we want to find the parameter values of $\\beta$ that maximize the likelihood of what happened in reality, i.e. what we actually observed. In this case, we want the values of $\\beta$ that maximize the likelihood of the true instances of heart attacks that actually occurred in the people in our study . This is called **maximum likelihood estimation**."
   ]
  },
  {
   "cell_type": "markdown",
   "metadata": {},
   "source": [
    "For our example, this means that given each person $i$ of the $n = 100000$ people in the study, her observed features of cholesterol and systolic blood pressure $x(i) = \\big(x_1(i), x_2(i)\\big)$, an indicator of heart attack or not $y(i)$, and the logistic sigmoid $p$ to model the probabilities, we want to find $\\beta = (\\beta_0, \\beta_1, \\beta_2)$ that solves"
   ]
  },
  {
   "cell_type": "markdown",
   "metadata": {},
   "source": [
    "$$\n",
    "\\begin{aligned}\n",
    "& \\underset{\\beta}{\\text{argmax }}\\, \\mathbb{P}\\big[Y^{(1)} = y(1),\\, Y^{(2)} = y(2),\\, \\cdots, Y^{(n)} = y(n)\\, \\big|\\, X_1^{(1)} = x_1(1) ,\\, X_2^{(1)} = x_2(1), \\cdots, X_1^{(n)} = x_1(n), X_2^{(n)} = x_2(n)\\big]\\\\\n",
    "= &\\, \\underset{\\beta}{\\text{argmax }}\\, \\prod_{i = 1}^{n}\\mathbb{P}\\big[Y^{(i)} = y(i)\\, \\big|\\, X_1^{(i)} = x_1(i) ,\\, X_2^{(i)} = x_2(i) \\big] \\quad \\textrm{assuming the observations for each person are independent}\\\\\n",
    "= &\\, \\underset{\\beta}{\\text{argmax }}\\, \\prod_{i = 1}^{n} p\\big( x(i);\\beta\\big)^{y(i)} \\cdot \\Big[1 - p\\big(x(i);\\beta\\big)\\Big]^{1 - y(i)} \\quad \\textrm{where we model the outcomes as a sequence of $n$ Bernoulli trials}\\\\\n",
    "= &\\,\\underset{\\beta}{\\text{argmax }}\\, \\sum_{i = 1}^{n}\\log\\Big[p\\big(x(i);\\beta\\big)^{y(i)} \\cdot \\Big(1 - p\\big(x(i);\\beta\\big)\\Big)^{1 - y(i)}\\Big] \\quad \\textrm{since argmax $\\, f(x) =$ argmax log$\\,(f(x))$} \\\\\n",
    "= &\\, \\underset{\\beta}{\\text{argmax }}\\, \\sum_{i = 1}^{n} \\Big[y(i)\\cdot\\log\\big[p\\big( x(i);\\beta\\big)\\big] + (1-y(i))\\cdot\\log\\big[1 - p\\big( x(i);\\beta\\big)\\big]\\Big] \\quad \\textrm{since log$(ab) = $ log $(a)$ + log$(b)$ and log$(a^x) = x\\cdot $log$(a)$} \\\\\n",
    "= &\\, \\underset{\\beta}{\\text{argmin }}\\, -\\sum_{i = 1}^{n} \\Big[y(i)\\cdot\\log\\big[p\\big( x(i);\\beta\\big)\\big] + (1-y(i))\\cdot\\log\\big[1 - p\\big( x(i);\\beta\\big)\\big]\\Big] \\quad \\textrm{since argmax $\\, f(x) = $ argmin $\\, -f(x)$} \\\\\n",
    "= &\\, \\underset{\\beta}{\\text{argmin }}\\, \\sum_{i = 1}^{n} \\Big[(y(i) - 1)\\cdot\\log\\big[1 - p\\big( x(i);\\beta\\big)\\big]\\Big] - y(i)\\cdot\\log\\big[p\\big( x(i);\\beta\\big)\\big]\\Big] \\quad \\textrm{by simplifying and rearranging terms} \\\\\n",
    "= &\\, \\underset{\\beta}{\\text{argmin }}\\, \\sum_{i = 1}^{n} \\Bigg[(y(i) - 1)\\cdot\\log\\Big[1 - \\frac{1}{1+e^{-x(i)\\cdot\\beta}}\\Big] - y(i)\\cdot\\log\\Big[\\frac{1}{1+e^{-x(i)\\cdot\\beta}}\\Big]\\Bigg] \\quad \\textrm{substituting $p\\big(x(i);\\beta\\big) := \\displaystyle\\frac{1}{1+e^{-(\\beta_0 + \\beta_1x_1 + \\beta_2x_2)}}$}\\\\\n",
    "= &\\, \\underset{\\beta}{\\text{argmin }}\\, \\frac{1}{n}\\sum_{i = 1}^{n} \\Big((y(i) - 1)\\cdot\\log\\big[1 - g(x(i)\\cdot\\beta)\\big] - y(i)\\cdot\\log\\big[g(x(i)\\cdot\\beta)\\big]\\Big) \\quad \\textrm{substituting $g(t) := \\displaystyle\\frac{1}{1+e^{-t}}$}\\\\\n",
    "= &\\, \\underset{\\beta}{\\text{argmin }}\\, l(\\beta)\n",
    "\\end{aligned}\n",
    "$$"
   ]
  },
  {
   "cell_type": "markdown",
   "metadata": {},
   "source": [
    "The objective in the second to last equality is also termed as the **loss**, which we denoted by $l(\\beta)$, and we can view the problem analogously as minimizing the loss."
   ]
  },
  {
   "cell_type": "markdown",
   "metadata": {},
   "source": [
    "We will now recover the betas using our own implementation of gradient descent."
   ]
  },
  {
   "cell_type": "markdown",
   "metadata": {},
   "source": [
    "## Gradient Descent"
   ]
  },
  {
   "cell_type": "markdown",
   "metadata": {},
   "source": [
    "Taking the derivative of the logistic sigmoid $\\displaystyle g(t) = \\frac{1}{1 + e^{-t}}$, we get\n",
    "$$\n",
    "\\begin{aligned}\n",
    "g'(t) & = \\frac{d}{dt}\\frac{1}{1 + e^{-t}}\\\\\n",
    "& = \\frac{1}{(1 + e^{-t})^2}(e^{-t})\\\\\n",
    "& = \\frac{1}{1 + e^{-t}}\\cdot\\left(1 - \\frac{1}{(1 + e^{-t})}\\right)\\\\\n",
    "& = g(t)(1 - g(t)).\\\\\n",
    "\\end{aligned}\n",
    "$$"
   ]
  },
  {
   "cell_type": "markdown",
   "metadata": {},
   "source": [
    "Take derivates in the direction of $\\beta_j$ for each $j \\geq 1$ to derive the gradient descent rule:"
   ]
  },
  {
   "cell_type": "markdown",
   "metadata": {},
   "source": [
    "$$\n",
    "\\begin{aligned}\n",
    "\\frac{\\partial}{\\partial\\beta_j}l(\\beta) = & \\frac{1}{n}\\sum_{i = 1}^{n}\\left((1 - y(i))\\frac{1}{1 - g(x(i)\\cdot\\beta)} - y(i)\\frac{1}{g(x(i)\\cdot\\beta)}\\right)\\frac{\\partial}{\\partial\\beta_j}g(x(i)\\cdot\\beta)\\\\\n",
    "= & \\frac{1}{n}\\sum_{i = 1}^{n}\\left((1 - y(i))\\frac{1}{1 - g(x(i)\\cdot\\beta)} - y(i)\\frac{1}{g(x(i)\\cdot\\beta)}\\right)g(x(i)\\cdot\\beta)\\left(1 - g(x(i)\\cdot\\beta)\\right)\\frac{\\partial}{\\partial\\beta_j}(x(i)\\cdot\\beta)\\\\\n",
    "= & \\frac{1}{n}\\sum_{i = 1}^{n}\\Big((1 - y(i))g\\big(x(i)\\cdot\\beta\\big) - y(i)\\big(1 - g(x(i)\\cdot\\beta)\\big)\\Big)x_j(i)\\\\\n",
    "= &\\frac{1}{n}\\sum_{i = 1}^{n}\\Big(g\\big(x(i)\\cdot\\beta\\big) - y(i)\\Big)x_j(i)\\\\\n",
    "\\end{aligned}\n",
    "$$"
   ]
  },
  {
   "cell_type": "markdown",
   "metadata": {},
   "source": [
    "and for $j = 0$,"
   ]
  },
  {
   "cell_type": "markdown",
   "metadata": {},
   "source": [
    "$$\n",
    "\\frac{\\partial}{\\partial\\beta_0}l(\\beta) = \\frac{1}{n}\\sum_{i = 1}^{n}g(x(i)\\cdot\\beta) - y(i)\\\\\n",
    "$$"
   ]
  },
  {
   "cell_type": "markdown",
   "metadata": {},
   "source": [
    "Adding a column of ones to the feature matrix $X$ corresponding to the $\\beta_0$ parameter, we can more compactly write"
   ]
  },
  {
   "cell_type": "markdown",
   "metadata": {},
   "source": [
    "$\\nabla_{\\beta}l(\\beta$) = \n",
    "$\\begin{bmatrix} \n",
    "\\displaystyle{\\frac{\\partial}{\\partial \\beta_0}} l(\\beta)\\\\\n",
    "\\displaystyle{\\frac{\\partial}{\\partial \\beta_1}} l(\\beta)\\\\\n",
    "\\displaystyle{\\frac{\\partial}{\\partial \\beta_2}} l(\\beta)\\\\\n",
    "\\end{bmatrix}\\\\\n",
    "= \\displaystyle\\frac{1}{n}\n",
    "\\begin{bmatrix}\n",
    "    \\sum\\limits_{i=1}^n \\big(g(x(i)\\cdot\\beta) - y(i)\\big)\\\\\n",
    "    \\sum\\limits_{i=1}^n \\big(g(x(i)\\cdot\\beta) - y(i)\\big) \\cdot x_1(i)\\\\\n",
    "    \\sum\\limits_{i=1}^n \\big(g(x(i)\\cdot\\beta) - y(i)\\big) \\cdot x_2(i) \\\\\n",
    "\\end{bmatrix}\\\\\n",
    "= \\displaystyle\\frac{1}{n}\n",
    "\\begin{bmatrix}\n",
    "    1 & 1 & 1 & \\dots & 1\\\\\n",
    "    x_{1}(1)  & x_{1}(2) & x_{1}(3) & \\dots & x_{1}(n) \\\\\n",
    "    x_{2}(1)  & x_{2}(2) & x_{2}(3) & \\dots & x_{2}(n) \\\\\n",
    "\\end{bmatrix}\n",
    "\\begin{bmatrix}\n",
    "g(x(1)\\cdot\\beta) - y(1)\\\\\n",
    "g(x(2)\\cdot\\beta) - y(2)\\\\\n",
    "\\vdots\\\\\n",
    "g(x(n)\\cdot\\beta) - y(n)\n",
    "\\end{bmatrix}\\\\\n",
    "= \\displaystyle\\frac{1}{n}\n",
    "\\begin{bmatrix}\n",
    "    1 & 1 & 1 & \\dots & 1\\\\\n",
    "    x_{1}(1)  & x_{1}(2) & x_{1}(3) & \\dots & x_{1}(n) \\\\\n",
    "    x_{2}(1)  & x_{2}(2) & x_{2}(3) & \\dots & x_{2}(n) \\\\\n",
    "\\end{bmatrix}\n",
    "\\left (\n",
    "g\\Bigg(\\begin{bmatrix} \n",
    "    1 & x_{1}(1)  & x_{2}(1)\\\\\n",
    "    1 & x_{1}(2)  & x_{2}(2)\\\\ \\\\\n",
    "    \\vdots & \\vdots & \\vdots \\\\\n",
    "    1 & x_{1}(n)  & x_{2}(n)\\\\\n",
    "\\end{bmatrix} \n",
    "\\begin{bmatrix} \n",
    "\\beta_0\\\\\n",
    "\\beta_1\\\\\n",
    "\\beta_2\\\\\n",
    "\\end{bmatrix}\n",
    "\\Bigg)\n",
    "-\n",
    "\\begin{bmatrix}\n",
    "y(1)\\\\\n",
    "\\vdots\\\\\n",
    "y(n)\n",
    "\\end{bmatrix}\n",
    "\\right )\\\\\n",
    "= \\displaystyle\\frac{1}{n}\\mathbf{X}^T(g(\\mathbf{X} \\cdot \\beta) - \\mathbf{y})\n",
    "$"
   ]
  },
  {
   "cell_type": "markdown",
   "metadata": {},
   "source": [
    "The gradient vector tells us how much loss would change upon modifying each parameter, or weight, $\\beta_j$. We update the weights by iteratively subtracting the gradient multiplied by a **learning rate** from the current weight vector until we reach the optimal solution."
   ]
  },
  {
   "cell_type": "markdown",
   "metadata": {},
   "source": [
    "$$\n",
    "\\beta = \\beta - \\eta\\nabla_{\\beta}l(\\beta).\n",
    "$$"
   ]
  },
  {
   "cell_type": "markdown",
   "metadata": {},
   "source": [
    "### Implementation"
   ]
  },
  {
   "cell_type": "markdown",
   "metadata": {},
   "source": [
    "We code up the gradient descent algorithm discussed above. Note that we will repeat some code from above for the sake of self-containment."
   ]
  },
  {
   "cell_type": "code",
   "execution_count": 15,
   "metadata": {
    "scrolled": true
   },
   "outputs": [
    {
     "name": "stdout",
     "output_type": "stream",
     "text": [
      "gradient descent betas: 0.1886 -2.721 2.5207\n",
      "gradient descent objective value: 30894.9\n"
     ]
    }
   ],
   "source": [
    "num_iters = 10000\n",
    "# Finding the right learning rate is a sophisticated problem.\n",
    "# For now, we fix it at 0.1.\n",
    "lr = 0.1 \n",
    "\n",
    "# Add a column of ones to the feature matrix X.\n",
    "def add_intercept(X):\n",
    "    ones = np.ones((X.shape[0], 1))\n",
    "    return np.concatenate([ones, X], axis=1)\n",
    "\n",
    "# Define the logistic siqmoid.\n",
    "def logistic_sigmoid(t):\n",
    "    return 1/(1 + np.exp(-t))\n",
    "\n",
    "# Define the objective term derived in the maximum likelihood estimation.\n",
    "def loss(h, y):\n",
    "    return np.dot((y - 1).T, np.log(1 - h)) - np.dot(y.T, np.log(h))\n",
    "\n",
    "def fit(X, y):   \n",
    "    # Add the column of ones corresponding to beta0 to X.\n",
    "    X = add_intercept(X)\n",
    "    \n",
    "    # Initialize beta\n",
    "    beta = np.zeros((X.shape[1], 1))\n",
    "    \n",
    "    for i in range(num_iters):\n",
    "        # Compute X*beta.\n",
    "        z = np.dot(X, beta)\n",
    "        # Evaluate the logistic sigmoid at X*beta.\n",
    "        h = logistic_sigmoid(z)\n",
    "        # Scale the gradient with sample size for better convergence performance.\n",
    "        gradient = np.dot(X.T, h - y)/y.size\n",
    "        beta = beta - lr*gradient\n",
    "    \n",
    "    z = np.dot(X, beta)\n",
    "    h = logistic_sigmoid(z)\n",
    "    obj_val = loss(h, y)\n",
    "    return beta, obj_val[0][0]\n",
    "\n",
    "gd_beta, gd_obj_val = fit(X, y)\n",
    "print(\"gradient descent betas: {} {} {}\".format(round(gd_beta[0][0], 4), round(gd_beta[1][0], 4), round(gd_beta[2][0], 4)))\n",
    "print(\"gradient descent objective value: {}\".format(round(gd_obj_val, 1)))"
   ]
  },
  {
   "cell_type": "markdown",
   "metadata": {},
   "source": [
    "Our own implementation of gradient descent did a decent job of recovering the betas as well. Notice that the final objective value matches closely with the objective determined by the `statsmodels` library."
   ]
  },
  {
   "cell_type": "markdown",
   "metadata": {},
   "source": [
    "## Check the Objective Value"
   ]
  },
  {
   "cell_type": "markdown",
   "metadata": {},
   "source": [
    "Let's do a primitive check that what we found is in fact a minimum."
   ]
  },
  {
   "cell_type": "code",
   "execution_count": 16,
   "metadata": {},
   "outputs": [
    {
     "name": "stdout",
     "output_type": "stream",
     "text": [
      "Minimum value of objective: 30894.92276088884\n",
      "Objective value when beta0 is shifted a little to the left: 30895.409004707795\n",
      "Objective value when beta0 is shifted a little to the right: 30895.40896957204\n"
     ]
    }
   ],
   "source": [
    "print(\"Minimum value of objective: {}\".format(gd_obj_val))\n",
    "\n",
    "# Slightly perturb beta by a vector epsilon.\n",
    "epsilon = np.array([[0.01], [0], [0]])\n",
    "\n",
    "# Perturbing beta0 to a slightly smaller or bigger value\n",
    "# should cause the objective function to increase\n",
    "# above the minimum value.\n",
    "\n",
    "left_beta = gd_beta - epsilon\n",
    "z = np.dot(add_intercept(X), left_beta)\n",
    "h = logistic_sigmoid(z)\n",
    "print(\"Objective value when beta0 is shifted a little to the left: {}\".format(loss(h, y)[0][0]))\n",
    "\n",
    "right_beta = gd_beta + epsilon\n",
    "z = np.dot(add_intercept(X), right_beta)\n",
    "h = logistic_sigmoid(z)\n",
    "print(\"Objective value when beta0 is shifted a little to the right: {}\".format(loss(h, y)[0][0]))"
   ]
  },
  {
   "cell_type": "markdown",
   "metadata": {},
   "source": [
    "## Summary"
   ]
  },
  {
   "cell_type": "markdown",
   "metadata": {},
   "source": [
    "1. As fake data creator, we took as our ansatz the following model of heart attack physics:\n",
    "    * The probability of getting a heart attack is $p(x_1, x_2) := \\displaystyle\\frac{1}{1+e^{-(0.2 + -2.7x_1 + 2.5x_2)}}$, where $x_1$ is cholesterol and $x_2$ is systolic blood pressure.\n",
    "    * Flip a coin with probability of heads equal to $p(x_1, x_2)$ and probability of tails equal to $1 - p(x_1, x_2)$ to determine if the person does in fact have a heart attack based on said probabiity.\n",
    "    * We threw away the $\\beta_0 = 0.2, \\beta_1 = -2.7, $ and $\\beta_2 = 2.5$ used to generate the predictor vector $y$.\n",
    "2. As a data scientist, we reconstructed approximations to the betas used to generate the fake data in step 1 by\n",
    "    * Formulating the problem as a maximum likelihood estimate.\n",
    "    * Using the `scikit-learn` and `statsmodels` logistic regression libraries and our own implementation of gradient descent.\n",
    "    * Performing a quick sanity check to make sure that our implementation of gradient descent found a minimum by plugging in slight deviations of the reconstructed betas into the objective of the maximum likelihood estimate."
   ]
  },
  {
   "cell_type": "markdown",
   "metadata": {},
   "source": [
    "## References"
   ]
  },
  {
   "cell_type": "markdown",
   "metadata": {},
   "source": [
    "https://en.wikipedia.org/wiki/Logistic_regression"
   ]
  },
  {
   "cell_type": "markdown",
   "metadata": {},
   "source": [
    "http://cs229.stanford.edu/notes/cs229-notes1.pdf"
   ]
  },
  {
   "cell_type": "markdown",
   "metadata": {},
   "source": [
    "https://medium.com/@martinpella/logistic-regression-from-scratch-in-python-124c5636b8ac"
   ]
  },
  {
   "cell_type": "markdown",
   "metadata": {},
   "source": [
    "https://mashimo.wordpress.com/2017/07/26/logistic-regression-with-python-statsmodels/"
   ]
  },
  {
   "cell_type": "markdown",
   "metadata": {},
   "source": [
    "http://scikit-learn.org/stable/modules/linear_model.html#logistic-regression"
   ]
  },
  {
   "cell_type": "markdown",
   "metadata": {},
   "source": [
    "https://ml-cheatsheet.readthedocs.io/en/latest/logistic_regression.html"
   ]
  },
  {
   "cell_type": "markdown",
   "metadata": {},
   "source": [
    "http://neuralnetworksanddeeplearning.com/chap3.html"
   ]
  },
  {
   "cell_type": "markdown",
   "metadata": {},
   "source": [
    "## Exercises"
   ]
  },
  {
   "cell_type": "markdown",
   "metadata": {},
   "source": [
    "1. Play around with the `num_people`, `num_iters`, and `lr` parameters in the code snippets above. Observe the resulting convergence times and the quality of recovered betas. \n",
    "2. Work through the digits classification exercise provided by scikit-learn located here:\n",
    "http://scikit-learn.org/stable/tutorial/statistical_inference/supervised_learning.html#clf-tut\n",
    "3. Read about **regularized logistic regression**."
   ]
  }
 ],
 "metadata": {
  "kernelspec": {
   "display_name": "Python [conda env:pytorch]",
   "language": "python",
   "name": "conda-env-pytorch-py"
  },
  "language_info": {
   "codemirror_mode": {
    "name": "ipython",
    "version": 3
   },
   "file_extension": ".py",
   "mimetype": "text/x-python",
   "name": "python",
   "nbconvert_exporter": "python",
   "pygments_lexer": "ipython3",
   "version": "3.6.5"
  }
 },
 "nbformat": 4,
 "nbformat_minor": 1
}
